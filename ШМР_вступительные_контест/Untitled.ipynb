{
 "cells": [
  {
   "cell_type": "code",
   "execution_count": 27,
   "metadata": {},
   "outputs": [],
   "source": [
    "import re"
   ]
  },
  {
   "cell_type": "code",
   "execution_count": 39,
   "metadata": {},
   "outputs": [
    {
     "name": "stdout",
     "output_type": "stream",
     "text": [
      "False\n",
      "True\n",
      "False\n",
      "False\n",
      "False\n",
      "False\n",
      "False\n",
      "False\n",
      "False\n",
      "False\n",
      "False\n",
      "False\n",
      "False\n",
      "False\n"
     ]
    }
   ],
   "source": [
    "phone = '+79160000000'\n",
    "\n",
    "# 9160000000; 8(916)000-00-00; +7(916)000-00-00; (916)000-00-00; '\n",
    "# '8 (916) 000-00-00; +7 (916) 000-00-00; '\n",
    "# '(916) 000-00-00; 8(916)0000000; '\n",
    "# '+7(916)0000000; (916)0000000; 8-916-000-00-00; +7-916-000-00-00; 916-000-00-00')\n",
    "\n",
    "\n",
    "def check_phone(num: str):\n",
    "    \n",
    "    result = re.match(r'^[78]?\\d{10}$', num)\n",
    "    \n",
    "    print(bool(result))\n",
    "\n",
    "\n",
    "for _phone in phones:\n",
    "    check_phone(_phone)"
   ]
  },
  {
   "cell_type": "code",
   "execution_count": 40,
   "metadata": {},
   "outputs": [
    {
     "ename": "SyntaxError",
     "evalue": "unexpected EOF while parsing (<ipython-input-40-7d114a37bcd3>, line 1)",
     "output_type": "error",
     "traceback": [
      "\u001b[0;36m  File \u001b[0;32m\"<ipython-input-40-7d114a37bcd3>\"\u001b[0;36m, line \u001b[0;32m1\u001b[0m\n\u001b[0;31m    for char in phone:\u001b[0m\n\u001b[0m                      ^\u001b[0m\n\u001b[0;31mSyntaxError\u001b[0m\u001b[0;31m:\u001b[0m unexpected EOF while parsing\n"
     ]
    }
   ],
   "source": [
    "quantityOfPluses = 0\n",
    "currentIndexOfDigit = -1\n",
    "\n",
    "\n",
    "\n",
    "iterator = 0\n",
    "for char in phone:\n",
    "    "
   ]
  },
  {
   "cell_type": "code",
   "execution_count": null,
   "metadata": {},
   "outputs": [],
   "source": []
  }
 ],
 "metadata": {
  "kernelspec": {
   "display_name": "Python 3",
   "language": "python",
   "name": "python3"
  },
  "language_info": {
   "codemirror_mode": {
    "name": "ipython",
    "version": 3
   },
   "file_extension": ".py",
   "mimetype": "text/x-python",
   "name": "python",
   "nbconvert_exporter": "python",
   "pygments_lexer": "ipython3",
   "version": "3.8.3"
  }
 },
 "nbformat": 4,
 "nbformat_minor": 4
}
